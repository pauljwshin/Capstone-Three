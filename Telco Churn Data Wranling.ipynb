{
 "cells": [
  {
   "cell_type": "markdown",
   "id": "a362e75f",
   "metadata": {},
   "source": [
    "## Capstone Three Data Wrangling: Telco Customer Churn Use Case"
   ]
  },
  {
   "cell_type": "code",
   "execution_count": 8,
   "id": "883d62c0",
   "metadata": {},
   "outputs": [
    {
     "name": "stdout",
     "output_type": "stream",
     "text": [
      "<class 'pandas.core.frame.DataFrame'>\n",
      "RangeIndex: 7043 entries, 0 to 7042\n",
      "Data columns (total 21 columns):\n",
      " #   Column            Non-Null Count  Dtype  \n",
      "---  ------            --------------  -----  \n",
      " 0   customerID        7043 non-null   object \n",
      " 1   gender            7043 non-null   object \n",
      " 2   SeniorCitizen     7043 non-null   int64  \n",
      " 3   Partner           7043 non-null   object \n",
      " 4   Dependents        7043 non-null   object \n",
      " 5   tenure            7043 non-null   int64  \n",
      " 6   PhoneService      7043 non-null   object \n",
      " 7   MultipleLines     7043 non-null   object \n",
      " 8   InternetService   7043 non-null   object \n",
      " 9   OnlineSecurity    7043 non-null   object \n",
      " 10  OnlineBackup      7043 non-null   object \n",
      " 11  DeviceProtection  7043 non-null   object \n",
      " 12  TechSupport       7043 non-null   object \n",
      " 13  StreamingTV       7043 non-null   object \n",
      " 14  StreamingMovies   7043 non-null   object \n",
      " 15  Contract          7043 non-null   object \n",
      " 16  PaperlessBilling  7043 non-null   object \n",
      " 17  PaymentMethod     7043 non-null   object \n",
      " 18  MonthlyCharges    7043 non-null   float64\n",
      " 19  TotalCharges      7043 non-null   object \n",
      " 20  Churn             7043 non-null   object \n",
      "dtypes: float64(1), int64(2), object(18)\n",
      "memory usage: 1.1+ MB\n"
     ]
    },
    {
     "data": {
      "text/plain": [
       "(None,\n",
       "    customerID  gender  SeniorCitizen Partner Dependents  tenure PhoneService  \\\n",
       " 0  7590-VHVEG  Female              0     Yes         No       1           No   \n",
       " 1  5575-GNVDE    Male              0      No         No      34          Yes   \n",
       " 2  3668-QPYBK    Male              0      No         No       2          Yes   \n",
       " 3  7795-CFOCW    Male              0      No         No      45           No   \n",
       " 4  9237-HQITU  Female              0      No         No       2          Yes   \n",
       " \n",
       "       MultipleLines InternetService OnlineSecurity  ... DeviceProtection  \\\n",
       " 0  No phone service             DSL             No  ...               No   \n",
       " 1                No             DSL            Yes  ...              Yes   \n",
       " 2                No             DSL            Yes  ...               No   \n",
       " 3  No phone service             DSL            Yes  ...              Yes   \n",
       " 4                No     Fiber optic             No  ...               No   \n",
       " \n",
       "   TechSupport StreamingTV StreamingMovies        Contract PaperlessBilling  \\\n",
       " 0          No          No              No  Month-to-month              Yes   \n",
       " 1          No          No              No        One year               No   \n",
       " 2          No          No              No  Month-to-month              Yes   \n",
       " 3         Yes          No              No        One year               No   \n",
       " 4          No          No              No  Month-to-month              Yes   \n",
       " \n",
       "                PaymentMethod MonthlyCharges  TotalCharges Churn  \n",
       " 0           Electronic check          29.85         29.85    No  \n",
       " 1               Mailed check          56.95        1889.5    No  \n",
       " 2               Mailed check          53.85        108.15   Yes  \n",
       " 3  Bank transfer (automatic)          42.30       1840.75    No  \n",
       " 4           Electronic check          70.70        151.65   Yes  \n",
       " \n",
       " [5 rows x 21 columns])"
      ]
     },
     "execution_count": 8,
     "metadata": {},
     "output_type": "execute_result"
    }
   ],
   "source": [
    "import pandas as pd\n",
    "import numpy as np\n",
    "\n",
    "# Load the Telco Customer Churn dataset\n",
    "telco_churn_df = pd.read_csv('WA_Fn-UseC_-Telco-Customer-Churn.csv')\n",
    "\n",
    "# Display basic information and the first few rows of the dataset\n",
    "telco_initial_info = telco_churn_df.info()\n",
    "telco_initial_head = telco_churn_df.head()\n",
    "\n",
    "telco_initial_info, telco_initial_head\n"
   ]
  },
  {
   "cell_type": "markdown",
   "id": "9347c490",
   "metadata": {},
   "source": [
    "### Data Cleaning: Convert Data Types and Check for missing values"
   ]
  },
  {
   "cell_type": "code",
   "execution_count": 9,
   "id": "e2aa0668",
   "metadata": {},
   "outputs": [
    {
     "name": "stdout",
     "output_type": "stream",
     "text": [
      "customerID           0\n",
      "gender               0\n",
      "SeniorCitizen        0\n",
      "Partner              0\n",
      "Dependents           0\n",
      "tenure               0\n",
      "PhoneService         0\n",
      "MultipleLines        0\n",
      "InternetService      0\n",
      "OnlineSecurity       0\n",
      "OnlineBackup         0\n",
      "DeviceProtection     0\n",
      "TechSupport          0\n",
      "StreamingTV          0\n",
      "StreamingMovies      0\n",
      "Contract             0\n",
      "PaperlessBilling     0\n",
      "PaymentMethod        0\n",
      "MonthlyCharges       0\n",
      "TotalCharges        11\n",
      "Churn                0\n",
      "dtype: int64\n"
     ]
    }
   ],
   "source": [
    "# Convert 'TotalCharges' from object to numeric (float). Errors='coerce' will replace non-convertible values with NaN.\n",
    "telco_churn_df['TotalCharges'] = pd.to_numeric(telco_churn_df['TotalCharges'], errors='coerce')\n",
    "\n",
    "# Check for new missing values in the dataset after conversion\n",
    "missing_values = telco_churn_df.isnull().sum()\n",
    "print(missing_values)\n"
   ]
  },
  {
   "cell_type": "code",
   "execution_count": 11,
   "id": "c9657328",
   "metadata": {},
   "outputs": [
    {
     "name": "stdout",
     "output_type": "stream",
     "text": [
      "      customerID  tenure  MonthlyCharges  TotalCharges Churn\n",
      "488   4472-LVYGI       0           52.55           NaN    No\n",
      "753   3115-CZMZD       0           20.25           NaN    No\n",
      "936   5709-LVOEQ       0           80.85           NaN    No\n",
      "1082  4367-NUYAO       0           25.75           NaN    No\n",
      "1340  1371-DWPAZ       0           56.05           NaN    No\n",
      "3331  7644-OMVMY       0           19.85           NaN    No\n",
      "3826  3213-VVOLG       0           25.35           NaN    No\n",
      "4380  2520-SGTTA       0           20.00           NaN    No\n",
      "5218  2923-ARZLG       0           19.70           NaN    No\n",
      "6670  4075-WKNIU       0           73.35           NaN    No\n",
      "6754  2775-SEFEE       0           61.90           NaN    No\n"
     ]
    }
   ],
   "source": [
    "# Investigate entries with missing 'TotalCharges'\n",
    "\n",
    "# Filter rows where 'TotalCharges' is NaN\n",
    "missing_total_charges = telco_churn_df[telco_churn_df['TotalCharges'].isnull()]\n",
    "\n",
    "# Display these rows, particularly looking at 'tenure' and 'MonthlyCharges'\n",
    "print(missing_total_charges[['customerID', 'tenure', 'MonthlyCharges', 'TotalCharges', 'Churn']])\n"
   ]
  },
  {
   "cell_type": "code",
   "execution_count": 12,
   "id": "c6116a98",
   "metadata": {},
   "outputs": [],
   "source": [
    "# 0 in 'tenure' suggests that these customers might be in their first month of the subscription and the 'TotalCharges' are likely still 0.\n",
    "\n",
    "# Assuming 'TotalCharges' should be 0 where 'tenure' is 0\n",
    "telco_churn_df.loc[telco_churn_df['tenure'] == 0, 'TotalCharges'] = 0\n"
   ]
  },
  {
   "cell_type": "code",
   "execution_count": 13,
   "id": "7ec0f2dc",
   "metadata": {},
   "outputs": [
    {
     "name": "stdout",
     "output_type": "stream",
     "text": [
      "customerID          0\n",
      "gender              0\n",
      "SeniorCitizen       0\n",
      "Partner             0\n",
      "Dependents          0\n",
      "tenure              0\n",
      "PhoneService        0\n",
      "MultipleLines       0\n",
      "InternetService     0\n",
      "OnlineSecurity      0\n",
      "OnlineBackup        0\n",
      "DeviceProtection    0\n",
      "TechSupport         0\n",
      "StreamingTV         0\n",
      "StreamingMovies     0\n",
      "Contract            0\n",
      "PaperlessBilling    0\n",
      "PaymentMethod       0\n",
      "MonthlyCharges      0\n",
      "TotalCharges        0\n",
      "Churn               0\n",
      "dtype: int64\n"
     ]
    }
   ],
   "source": [
    "# Check again for missing values\n",
    "print(telco_churn_df.isnull().sum())\n"
   ]
  },
  {
   "cell_type": "code",
   "execution_count": 14,
   "id": "5836fbe9",
   "metadata": {},
   "outputs": [
    {
     "name": "stdout",
     "output_type": "stream",
     "text": [
      "Number of duplicate entries: 0\n"
     ]
    }
   ],
   "source": [
    "# Check for duplicates\n",
    "\n",
    "# Check for duplicate rows\n",
    "duplicates = telco_churn_df.duplicated().sum()\n",
    "print(\"Number of duplicate entries:\", duplicates)\n",
    "\n",
    "# Remove duplicate rows, if any\n",
    "telco_churn_df = telco_churn_df.drop_duplicates()\n"
   ]
  },
  {
   "cell_type": "code",
   "execution_count": 15,
   "id": "fc369130",
   "metadata": {},
   "outputs": [
    {
     "name": "stdout",
     "output_type": "stream",
     "text": [
      "<class 'pandas.core.frame.DataFrame'>\n",
      "Int64Index: 7043 entries, 0 to 7042\n",
      "Data columns (total 21 columns):\n",
      " #   Column            Non-Null Count  Dtype  \n",
      "---  ------            --------------  -----  \n",
      " 0   customerID        7043 non-null   object \n",
      " 1   gender            7043 non-null   object \n",
      " 2   SeniorCitizen     7043 non-null   int64  \n",
      " 3   Partner           7043 non-null   object \n",
      " 4   Dependents        7043 non-null   object \n",
      " 5   tenure            7043 non-null   int64  \n",
      " 6   PhoneService      7043 non-null   object \n",
      " 7   MultipleLines     7043 non-null   object \n",
      " 8   InternetService   7043 non-null   object \n",
      " 9   OnlineSecurity    7043 non-null   object \n",
      " 10  OnlineBackup      7043 non-null   object \n",
      " 11  DeviceProtection  7043 non-null   object \n",
      " 12  TechSupport       7043 non-null   object \n",
      " 13  StreamingTV       7043 non-null   object \n",
      " 14  StreamingMovies   7043 non-null   object \n",
      " 15  Contract          7043 non-null   object \n",
      " 16  PaperlessBilling  7043 non-null   object \n",
      " 17  PaymentMethod     7043 non-null   object \n",
      " 18  MonthlyCharges    7043 non-null   float64\n",
      " 19  TotalCharges      7043 non-null   float64\n",
      " 20  Churn             7043 non-null   object \n",
      "dtypes: float64(2), int64(2), object(17)\n",
      "memory usage: 1.2+ MB\n"
     ]
    }
   ],
   "source": [
    "# Re-check Data Types and Structure\n",
    "\n",
    "# Display updated DataFrame information\n",
    "telco_churn_df.info()\n"
   ]
  },
  {
   "cell_type": "code",
   "execution_count": 16,
   "id": "a612e83d",
   "metadata": {},
   "outputs": [
    {
     "name": "stdout",
     "output_type": "stream",
     "text": [
      "Index(['customerID', 'gender', 'Partner', 'Dependents', 'PhoneService',\n",
      "       'MultipleLines', 'InternetService', 'OnlineSecurity', 'OnlineBackup',\n",
      "       'DeviceProtection', 'TechSupport', 'StreamingTV', 'StreamingMovies',\n",
      "       'Contract', 'PaperlessBilling', 'PaymentMethod', 'Churn'],\n",
      "      dtype='object')\n"
     ]
    }
   ],
   "source": [
    "# Check for Categorical data consistency\n",
    "\n",
    "# List all columns that are of object type, which are typically categorical\n",
    "categorical_columns = telco_churn_df.select_dtypes(include=['object']).columns\n",
    "print(categorical_columns)\n"
   ]
  },
  {
   "cell_type": "code",
   "execution_count": 17,
   "id": "0ab920fc",
   "metadata": {},
   "outputs": [
    {
     "name": "stdout",
     "output_type": "stream",
     "text": [
      "Unique values in customerID: ['7590-VHVEG' '5575-GNVDE' '3668-QPYBK' ... '4801-JZAZL' '8361-LTMKD'\n",
      " '3186-AJIEK']\n",
      "Unique values in gender: ['Female' 'Male']\n",
      "Unique values in Partner: ['Yes' 'No']\n",
      "Unique values in Dependents: ['No' 'Yes']\n",
      "Unique values in PhoneService: ['No' 'Yes']\n",
      "Unique values in MultipleLines: ['No phone service' 'No' 'Yes']\n",
      "Unique values in InternetService: ['DSL' 'Fiber optic' 'No']\n",
      "Unique values in OnlineSecurity: ['No' 'Yes' 'No internet service']\n",
      "Unique values in OnlineBackup: ['Yes' 'No' 'No internet service']\n",
      "Unique values in DeviceProtection: ['No' 'Yes' 'No internet service']\n",
      "Unique values in TechSupport: ['No' 'Yes' 'No internet service']\n",
      "Unique values in StreamingTV: ['No' 'Yes' 'No internet service']\n",
      "Unique values in StreamingMovies: ['No' 'Yes' 'No internet service']\n",
      "Unique values in Contract: ['Month-to-month' 'One year' 'Two year']\n",
      "Unique values in PaperlessBilling: ['Yes' 'No']\n",
      "Unique values in PaymentMethod: ['Electronic check' 'Mailed check' 'Bank transfer (automatic)'\n",
      " 'Credit card (automatic)']\n",
      "Unique values in Churn: ['No' 'Yes']\n"
     ]
    }
   ],
   "source": [
    "# Print unique values in each categorical column to check for consistency\n",
    "for column in categorical_columns:\n",
    "    print(f\"Unique values in {column}: {telco_churn_df[column].unique()}\")\n"
   ]
  },
  {
   "cell_type": "code",
   "execution_count": 18,
   "id": "a8f1c709",
   "metadata": {},
   "outputs": [
    {
     "data": {
      "text/plain": [
       "<Axes: xlabel='MonthlyCharges'>"
      ]
     },
     "execution_count": 18,
     "metadata": {},
     "output_type": "execute_result"
    },
    {
     "data": {
      "image/png": "[encoded data removed]",
      "text/plain": [
       "<Figure size 640x480 with 1 Axes>"
      ]
     },
     "metadata": {},
     "output_type": "display_data"
    }
   ],
   "source": [
    "# Check for outliers\n",
    "import seaborn as sns\n",
    "sns.boxplot(x=telco_churn_df['MonthlyCharges'])\n"
   ]
  },
  {
   "cell_type": "code",
   "execution_count": 19,
   "id": "7c70367d",
   "metadata": {},
   "outputs": [],
   "source": [
    "# Save the cleaned DataFrame to a new CSV file\n",
    "telco_churn_df.to_csv('cleaned_telco_churn.csv', index=False)\n"
   ]
  }
 ],
 "metadata": {
  "kernelspec": {
   "display_name": "Python 3 (ipykernel)",
   "language": "python",
   "name": "python3"
  },
  "language_info": {
   "codemirror_mode": {
    "name": "ipython",
    "version": 3
   },
   "file_extension": ".py",
   "mimetype": "text/x-python",
   "name": "python",
   "nbconvert_exporter": "python",
   "pygments_lexer": "ipython3",
   "version": "3.10.9"
  }
 },
 "nbformat": 4,
 "nbformat_minor": 5
}
